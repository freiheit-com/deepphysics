{
 "cells": [
  {
   "cell_type": "markdown",
   "metadata": {},
   "source": [
    "# Input Data Check\n",
    "\n",
    "In this notebook we will check the input data, display image samples and calculate statistics. This notebook and all the following expecting the input to be in the `gitignored/`-folder. The end goal is that the scientists only need to fill this folder and execute the notebooks or -- in a later phase -- the main program.\n",
    "\n",
    "Members of the freiheit data science faction can get the data by running the `getData.sh` script. It will download and extract the example data to the `gitignored/` folder.\n",
    "\n",
    "**Important**:\n",
    "\n",
    "We do not want to relabel images within our notebooks but we want to keep the same label mapping. When we train the neural network it should predict one of the six classes. But the classes must indexed from o on. So if we have six classes, they must be labeled `[0, 1, 2, 3, 4, 5]`. Therefore we just use this definition. So our `0` eqals to a `1` in [the paper]( https://pubs.acs.org/doi/abs/10.1021/acs.nanolett.7b02419)."
   ]
  },
  {
   "cell_type": "markdown",
   "metadata": {},
   "source": [
    "## Imports"
   ]
  },
  {
   "cell_type": "code",
   "execution_count": null,
   "metadata": {},
   "outputs": [],
   "source": [
    "%matplotlib inline\n",
    "import matplotlib.pyplot as plt\n",
    "import pandas as pd\n",
    "import os\n",
    "import imageio"
   ]
  },
  {
   "cell_type": "markdown",
   "metadata": {},
   "source": [
    "## Constants\n",
    "\n",
    "This is the required folder structure. Every notebooks expects it."
   ]
  },
  {
   "cell_type": "code",
   "execution_count": null,
   "metadata": {},
   "outputs": [],
   "source": [
    "input_folder = \"gitignored/\"\n",
    "input_images_folder = input_folder + \"input_images/\"\n",
    "classification_file = \"classification.csv\""
   ]
  },
  {
   "cell_type": "markdown",
   "metadata": {},
   "source": [
    "## Check Input Files and Folders\n",
    "\n",
    "We are checking if the folder structure meets the expectations and if all required files are present. In the past we had the problem that some images were missing."
   ]
  },
  {
   "cell_type": "code",
   "execution_count": null,
   "metadata": {},
   "outputs": [],
   "source": [
    "content_of_inputfolder = os.listdir(input_folder)\n",
    "\n",
    "# check for classification file\n",
    "assert classification_file in content_of_inputfolder\n",
    "\n",
    "# check for input images folder\n",
    "assert \"input_images\" in content_of_inputfolder\n",
    "\n",
    "df = pd.read_csv(input_folder + classification_file, delimiter=\"\\t\")\n",
    "content_of_input_images_folder = os.listdir(input_images_folder)\n",
    "\n",
    "# check for missing files\n",
    "missing_files = []\n",
    "for file_name in df[\"file_name\"]:\n",
    "    if file_name not in content_of_input_images_folder:\n",
    "        missing_files.append(file_name)\n",
    "     \n",
    "assert len(missing_files) == 0, \"There are missing files: {}\".format(missing_files)"
   ]
  },
  {
   "cell_type": "markdown",
   "metadata": {},
   "source": [
    "## Class Distribution\n",
    "\n",
    "Get the class distribution to show how unbalanced the data set is."
   ]
  },
  {
   "cell_type": "code",
   "execution_count": null,
   "metadata": {},
   "outputs": [],
   "source": [
    "hist_data = []\n",
    "plot_bins = range(6)\n",
    "\n",
    "for i in plot_bins:\n",
    "    hist_data.append(len(df[df[\"label\"] == i]))\n",
    "\n",
    "_ = plt.bar(plot_bins, hist_data)\n",
    "plt.title(\"class distribution in data set\")\n",
    "plt.xlabel(\"classes\")\n",
    "plt.ylabel(\"number of images\")\n",
    "plt.grid()\n",
    "\n",
    "for i in range(len(plot_bins)):\n",
    "    print(\"label: {}; number of images {}\".format(plot_bins[i], hist_data[i]))"
   ]
  },
  {
   "cell_type": "markdown",
   "metadata": {},
   "source": [
    "## Examples for Image Classes\n",
    "\n",
    "Plot a few examples for each molecule state class. Each row contains images of molecules of the same state.\n",
    "\n",
    "**Remember**: Our labels are in the range [0, 5] and not [1, 6] as in the paper."
   ]
  },
  {
   "cell_type": "code",
   "execution_count": null,
   "metadata": {},
   "outputs": [],
   "source": [
    "labels = [0, 1, 2, 3, 4, 5]\n",
    "n_cols = 6\n",
    "n_rows = len(labels)\n",
    "idx = 1\n",
    "\n",
    "fig = plt.figure(figsize=(n_cols * 4, n_rows * 3))\n",
    "\n",
    "for label in labels:\n",
    "    for col in range(n_cols):\n",
    "        rows_with_label = df[df['label'] == label]\n",
    "        example = rows_with_label.sample(1)\n",
    "        file_name = example['file_name'].iloc[0]\n",
    "        image = imageio.imread(input_images_folder + file_name)\n",
    "        \n",
    "        ax = fig.add_subplot(n_rows, n_cols, idx)\n",
    "        ax.set_title(\"label: {}\".format(label))\n",
    "        ax.set_xticks([])\n",
    "        ax.set_yticks([])\n",
    "        ax.imshow(image)\n",
    "    \n",
    "        idx += 1\n",
    "\n",
    "plt.tight_layout()"
   ]
  }
 ],
 "metadata": {
  "kernelspec": {
   "display_name": "Python 3",
   "language": "python",
   "name": "python3"
  },
  "language_info": {
   "codemirror_mode": {
    "name": "ipython",
    "version": 3
   },
   "file_extension": ".py",
   "mimetype": "text/x-python",
   "name": "python",
   "nbconvert_exporter": "python",
   "pygments_lexer": "ipython3",
   "version": "3.5.3"
  }
 },
 "nbformat": 4,
 "nbformat_minor": 2
}

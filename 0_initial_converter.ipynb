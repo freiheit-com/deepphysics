{
 "cells": [
  {
   "cell_type": "markdown",
   "metadata": {},
   "source": [
    "# Initial Converter\n",
    "\n",
    "In this notebook we are converting the classification of the two measurement series\n",
    "\n",
    "- 11th_tip3_pure3_500mV_12000pm_2000pA_5000ms_114\n",
    "- 0_max_middle_500mV_8000pm_2000pA_5000ms_-5\n",
    "\n",
    "into a classification file that obeys our specification.\n",
    "\n",
    "Members of the freiheit data science faction can get the data by running the `getData.sh` script. It will download and extract the example data to the `gitignored/` folder."
   ]
  },
  {
   "cell_type": "code",
   "execution_count": null,
   "metadata": {},
   "outputs": [],
   "source": [
    "%matplotlib inline\n",
    "import pandas as pd\n",
    "import matplotlib.pyplot as plt"
   ]
  },
  {
   "cell_type": "code",
   "execution_count": null,
   "metadata": {},
   "outputs": [],
   "source": [
    "input_path = \"gitignored/\"\n",
    "\n",
    "tip3_df = pd.read_csv(input_path + \"11th_tip3_pure3_500mV_12000pm_2000pA_5000ms_114_results.txt\", names=[\"file_name\", \"label\", \"parameter\"], delimiter=\"\\t\", header=None, dtype=str)\n",
    "tip3_df[\"file_name\"] = \"11th_tip3_pure3_500mV_12000pm_2000pA_5000ms_114_\" + tip3_df[\"file_name\"]\n",
    "\n",
    "max_df = pd.read_csv(input_path + \"0_max_middle_500mV_8000pm_2000pA_5000ms_-5_all.txt\", names=[\"file_name\", \"label\", \"parameter\"], delimiter=\"\\t\", header=None, dtype=str)\n",
    "max_df[\"file_name\"] = \"0_max_middle_500mV_8000pm_2000pA_5000ms_-5_\" + max_df[\"file_name\"]\n",
    "\n",
    "df = pd.DataFrame({\"file_name\": tip3_df[\"file_name\"], \"label\": tip3_df[\"label\"]})\n",
    "df = df.append(pd.DataFrame({\"file_name\": max_df[\"file_name\"], \"label\": max_df[\"label\"]}), ignore_index=True)\n",
    "\n",
    "df[\"label\"] = df[\"label\"].astype(int)\n",
    "\n",
    "print(\"number of images: {}\".format(len(df)))\n",
    "\n",
    "df.head(20)"
   ]
  },
  {
   "cell_type": "code",
   "execution_count": null,
   "metadata": {},
   "outputs": [],
   "source": [
    "hist_data = []\n",
    "plot_bins = range(7)\n",
    "\n",
    "for i in plot_bins:\n",
    "    hist_data.append(len(df[df[\"label\"] == i]))\n",
    "\n",
    "_ = plt.bar(plot_bins, hist_data)\n",
    "plt.title(\"class distribution in data set\")\n",
    "plt.xlabel(\"classes\")\n",
    "plt.ylabel(\"number of images\")\n",
    "plt.grid()"
   ]
  },
  {
   "cell_type": "code",
   "execution_count": null,
   "metadata": {},
   "outputs": [],
   "source": [
    "for i in range(len(plot_bins)):\n",
    "    print(\"label: {}; number {}\".format(plot_bins[i], hist_data[i]))"
   ]
  },
  {
   "cell_type": "code",
   "execution_count": null,
   "metadata": {},
   "outputs": [],
   "source": [
    "# We'll remap labels, so they are consistent with the presentation paper minus one. 0 at us means 0th element of cathegory -> 1 in the paper.\n",
    "df['label'] = df['label'].astype(\"category\")\n",
    "df['label'].cat.categories = [\n",
    "    1, # Right\n",
    "    0, # Left\n",
    "    3, # Bottom\n",
    "    2, # Top\n",
    "    4, # Top <-> Left|Right\n",
    "    5, # Bottom <-> Left|Right\n",
    "]\n",
    "df.to_csv(input_path + \"fresh_classification.csv\", sep=\"\\t\")"
   ]
  },
  {
   "cell_type": "code",
   "execution_count": null,
   "metadata": {},
   "outputs": [],
   "source": [
    "hist_data = []\n",
    "plot_bins = range(6)\n",
    "\n",
    "for i in plot_bins:\n",
    "    hist_data.append(len(df[df[\"label\"] == i]))\n",
    "\n",
    "_ = plt.bar(plot_bins, hist_data)\n",
    "plt.title(\"class distribution in data set\")\n",
    "plt.xlabel(\"classes\")\n",
    "plt.ylabel(\"number of images\")\n",
    "plt.grid()"
   ]
  },
  {
   "cell_type": "code",
   "execution_count": null,
   "metadata": {},
   "outputs": [],
   "source": [
    "for i in range(len(plot_bins)):\n",
    "    print(\"label: {}; number {}\".format(plot_bins[i], hist_data[i]))"
   ]
  },
  {
   "cell_type": "code",
   "execution_count": null,
   "metadata": {},
   "outputs": [],
   "source": [
    "df[\"file_name\"] = df[\"file_name\"] + \".png\"\n",
    "df.to_csv(input_path + \"classification.csv\", sep=\"\\t\")"
   ]
  },
  {
   "cell_type": "code",
   "execution_count": null,
   "metadata": {},
   "outputs": [],
   "source": []
  }
 ],
 "metadata": {
  "kernelspec": {
   "display_name": "Python 3",
   "language": "python",
   "name": "python3"
  },
  "language_info": {
   "codemirror_mode": {
    "name": "ipython",
    "version": 3
   },
   "file_extension": ".py",
   "mimetype": "text/x-python",
   "name": "python",
   "nbconvert_exporter": "python",
   "pygments_lexer": "ipython3",
   "version": "3.5.3"
  }
 },
 "nbformat": 4,
 "nbformat_minor": 2
}
